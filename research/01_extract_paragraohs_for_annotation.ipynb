{
 "cells": [
  {
   "cell_type": "code",
   "execution_count": 1,
   "metadata": {},
   "outputs": [],
   "source": [
    "import os; os.chdir('..')"
   ]
  },
  {
   "cell_type": "code",
   "execution_count": 2,
   "metadata": {},
   "outputs": [],
   "source": [
    "from utils.cleaner import extract_paragraphs"
   ]
  },
  {
   "cell_type": "code",
   "execution_count": 3,
   "metadata": {},
   "outputs": [],
   "source": [
    "list_of_urls= [\n",
    "    'https://www.rtings.com/headphones/reviews/bose/quietcomfort-earbuds-ii-truly-wireless',\n",
    "    'https://www.rtings.com/headphones/reviews/best/by-usage/gaming',\n",
    "       'https://www.rtings.com/headphones/reviews/best/by-feature/active-noise-cancelling',\n",
    "       'https://www.rtings.com/headphones/reviews/best/by-type/in-ear-earbuds',\n",
    "       'https://www.rtings.com/headphones/reviews/best/by-feature/wireless-bluetooth',\n",
    "       'https://www.rtings.com/headphones/reviews/best/wireless-gaming-headsets',\n",
    "       'https://www.rtings.com/headphones/reviews/best/ps5' ,\n",
    "       'https://www.rtings.com/headphones/reviews/best/by-type/over-ear-around',\n",
    "       'https://www.rtings.com/headphones/reviews/audeze/maxwell-wireless',\n",
    "       'https://www.rtings.com/headphones/reviews/best/wireless-bluetooth-earbuds-running',\n",
    "       'https://www.rtings.com/headphones/reviews/best/over-ear-headphones-working-out',\n",
    "       'https://www.rtings.com/headphones/reviews/best/earbuds-phone-calls',\n",
    "       'https://www.rtings.com/headphones/reviews/best/by-usage/critical-listening-audiophile',\n",
    "       'https://www.rtings.com/headphones/reviews/best/over-ear-headphones-working-out',\n",
    "       \n",
    "       'https://www.rtings.com/headphones/reviews/best/wired',\n",
    "       'https://www.rtings.com/headphones/reviews/best/by-usage/gaming'\n",
    "       \n",
    "       \n",
    "       \n",
    "       \n",
    "]"
   ]
  },
  {
   "cell_type": "code",
   "execution_count": 4,
   "metadata": {},
   "outputs": [
    {
     "name": "stdout",
     "output_type": "stream",
     "text": [
      "url: https://www.rtings.com/headphones/reviews/bose/quietcomfort-earbuds-ii-truly-wireless\n"
     ]
    },
    {
     "name": "stdout",
     "output_type": "stream",
     "text": [
      "success 😁\n",
      "url: https://www.rtings.com/headphones/reviews/best/by-usage/gaming\n",
      "success 😁\n",
      "url: https://www.rtings.com/headphones/reviews/best/by-feature/active-noise-cancelling\n",
      "success 😁\n",
      "url: https://www.rtings.com/headphones/reviews/best/by-type/in-ear-earbuds\n",
      "success 😁\n",
      "url: https://www.rtings.com/headphones/reviews/best/by-feature/wireless-bluetooth\n",
      "success 😁\n",
      "url: https://www.rtings.com/headphones/reviews/best/wireless-gaming-headsets\n",
      "success 😁\n",
      "url: https://www.rtings.com/headphones/reviews/best/ps5\n",
      "success 😁\n",
      "url: https://www.rtings.com/headphones/reviews/best/by-type/over-ear-around\n",
      "success 😁\n",
      "url: https://www.rtings.com/headphones/reviews/audeze/maxwell-wireless\n",
      "success 😁\n",
      "url: https://www.rtings.com/headphones/reviews/best/wireless-bluetooth-earbuds-running\n",
      "success 😁\n",
      "url: https://www.rtings.com/headphones/reviews/best/over-ear-headphones-working-out\n",
      "success 😁\n",
      "url: https://www.rtings.com/headphones/reviews/best/earbuds-phone-calls\n",
      "success 😁\n",
      "url: https://www.rtings.com/headphones/reviews/best/by-usage/critical-listening-audiophile\n",
      "success 😁\n",
      "url: https://www.rtings.com/headphones/reviews/best/over-ear-headphones-working-out\n",
      "success 😁\n",
      "url: https://www.rtings.com/headphones/reviews/best/wired\n",
      "success 😁\n",
      "url: https://www.rtings.com/headphones/reviews/best/by-usage/gaming\n",
      "success 😁\n"
     ]
    }
   ],
   "source": [
    "with open(\"data/test_data.txt\", \"w\")as f:\n",
    "    for url in list_of_urls:\n",
    "        para= extract_paragraphs(url)\n",
    "        f.writelines(para)"
   ]
  },
  {
   "cell_type": "code",
   "execution_count": 7,
   "metadata": {},
   "outputs": [
    {
     "name": "stdout",
     "output_type": "stream",
     "text": [
      "url: https://www.caranddriver.com/features/g39175084/10-cheapest-new-cars-in-2022/\n",
      "success 😁\n"
     ]
    }
   ],
   "source": [
    "with open(\"data/car_data.txt\", \"w\")as f:\n",
    "    for url in ['https://www.caranddriver.com/features/g39175084/10-cheapest-new-cars-in-2022/']:\n",
    "        para= extract_paragraphs(url)\n",
    "        for p in para:\n",
    "            f.write(\n",
    "                p+'\\n'\n",
    "            )"
   ]
  },
  {
   "cell_type": "code",
   "execution_count": null,
   "metadata": {},
   "outputs": [],
   "source": []
  }
 ],
 "metadata": {
  "kernelspec": {
   "display_name": "venv",
   "language": "python",
   "name": "python3"
  },
  "language_info": {
   "codemirror_mode": {
    "name": "ipython",
    "version": 3
   },
   "file_extension": ".py",
   "mimetype": "text/x-python",
   "name": "python",
   "nbconvert_exporter": "python",
   "pygments_lexer": "ipython3",
   "version": "3.10.12"
  }
 },
 "nbformat": 4,
 "nbformat_minor": 2
}
