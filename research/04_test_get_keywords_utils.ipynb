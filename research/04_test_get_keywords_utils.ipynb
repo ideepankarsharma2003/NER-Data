{
 "cells": [
  {
   "cell_type": "code",
   "execution_count": 1,
   "metadata": {},
   "outputs": [],
   "source": [
    "import os; os.chdir('..')"
   ]
  },
  {
   "cell_type": "code",
   "execution_count": 2,
   "metadata": {},
   "outputs": [
    {
     "name": "stderr",
     "output_type": "stream",
     "text": [
      "/home/ubuntu/new_Demo/venv/lib/python3.10/site-packages/tqdm/auto.py:21: TqdmWarning: IProgress not found. Please update jupyter and ipywidgets. See https://ipywidgets.readthedocs.io/en/stable/user_install.html\n",
      "  from .autonotebook import tqdm as notebook_tqdm\n"
     ]
    }
   ],
   "source": [
    "from utils.get_keywords_utils import generate_keywords_around_seed"
   ]
  },
  {
   "cell_type": "code",
   "execution_count": 3,
   "metadata": {},
   "outputs": [
    {
     "name": "stdout",
     "output_type": "stream",
     "text": [
      "Cat Ear Headphones  EASARS Wireless Cat Ear Headphones, Black Gaming Headset Bluetooth 5.0 for Smartphone, Retractable Mic, 50mm Drivers, RGB Lighting Headset with Mic (USB Dongle ... YOWU RGB Cat Ear Headphone 3G Wireless 5.0 ...  YOWU RGB Cat Ear Headphone 3G Wireless 5.0 Foldable Gaming Headset with 7.1 Surround Sound, Built-in Mic & Customizable Lighting and Effect via APP, Type-C ... Cat Ear Headphones  Shop for Cat Ear Headphones at Walmart.com. Save money. Live better. Razer Kraken Kitty Edition - PC Gaming Headset  Express your own unique personality with the Razer Kraken Kitty Edition Headset featuring THX spatial audio, a highly customizable lighting, and an active ... Cat Ear Headphones  Shop our wide collection of cat ear headphones and headsets for kitty fans enjoying sound! Free-shipping. Get your cat ear headphones today! mimineko | Clip-on Cat Ears for Gaming ...  mimineko specializes in creating the world's best clip-on cat ear headphone attachments. Transform your gaming headphones with our 12 unique color combos! Cat Ear Headphones 3G  Deliver worldwide within 7-14 business days. Cat Ear Headphones 3G. US$119. cat ear headphones  Gugxiom Cat Ear Headphones, Wireless Gaming Headsets via Bluetooth 5.1/3.5mm AUX Cable, Foldable Headphones with 7 Colors LED Lights and 4 LED Modes for Girls, ... Cat Ear Headphones for sale  Get the best deals on Cat Ear Headphones when you shop the largest online selection at eBay.com. Free shipping on many items | Browse your favorite brands ... 10 Best Cat Ear Headphones [2023]  10 Best Cat Ear Headphones in 2023. Razer Kraken Kitty RGB USB Gaming Headset. Best Overall. \n"
     ]
    }
   ],
   "source": [
    "l= generate_keywords_around_seed(\"cat ear headphones\")"
   ]
  },
  {
   "cell_type": "code",
   "execution_count": 4,
   "metadata": {},
   "outputs": [
    {
     "data": {
      "text/plain": [
       "([('best cat ear headphones 2023 razer', 0.887),\n",
       "  ('cat ear headphones wireless gaming', 0.8819),\n",
       "  ('wireless cat ear headphones black gaming', 0.8807),\n",
       "  ('best cat ear headphones 2023', 0.8801),\n",
       "  ('best cat ear headphones', 0.8798),\n",
       "  ('cat ear headphones wireless gaming headsets', 0.8788),\n",
       "  ('10 best cat ear headphones 2023', 0.8764),\n",
       "  ('brands 10 best cat ear headphones', 0.8763),\n",
       "  ('cat ear headphones 2023 razer kraken', 0.8763),\n",
       "  ('rgb cat ear headphone 3g wireless', 0.8752),\n",
       "  ('cat ear headphones black gaming', 0.8751),\n",
       "  ('cat ear headphones 2023 10 best', 0.8749),\n",
       "  ('ear headphones 2023 razer kraken kitty', 0.8749),\n",
       "  ('cat ear headphones 2023 razer', 0.8746),\n",
       "  ('best cat ear headphones 2023 10', 0.8742),\n",
       "  ('3g wireless yowu rgb cat ear', 0.8731),\n",
       "  ('dongle yowu rgb cat ear headphone', 0.8729),\n",
       "  ('2023 10 best cat ear headphones', 0.8729),\n",
       "  ('yowu rgb cat ear headphone 3g', 0.8722),\n",
       "  ('rgb cat ear headphone 3g', 0.872),\n",
       "  ('cat ear headphone 3g wireless foldable', 0.872),\n",
       "  ('10 best cat ear headphones', 0.8719),\n",
       "  ('yowu rgb cat ear headphone', 0.8713),\n",
       "  ('wireless yowu rgb cat ear headphone', 0.8712),\n",
       "  ('cat ear headphones black gaming headset', 0.8711),\n",
       "  ('headphones 2023 10 best cat ear', 0.8705),\n",
       "  ('cat ear headphones easars wireless', 0.8703),\n",
       "  ('headphones 2023 razer kraken kitty rgb', 0.8699),\n",
       "  ('rgb cat ear headphone', 0.8693),\n",
       "  ('cat ear headphone 3g wireless yowu', 0.8691),\n",
       "  ('headphone 3g wireless yowu rgb cat', 0.8687),\n",
       "  ('headphones easars wireless cat ear', 0.8687),\n",
       "  ('gugxiom cat ear headphones wireless gaming', 0.8679),\n",
       "  ('headphones 2023 razer kraken kitty', 0.8676),\n",
       "  ('ear headphones 2023 10 best cat', 0.8668),\n",
       "  ('color combos cat ear headphones 3g', 0.8665),\n",
       "  ('best clip cat ear headphone', 0.8663),\n",
       "  ('kitty rgb usb gaming headset best', 0.866),\n",
       "  ('cat ear headphone attachments transform gaming', 0.866),\n",
       "  ('best deals cat ear headphones', 0.8659),\n",
       "  ('wireless yowu rgb cat ear', 0.8659),\n",
       "  ('easars wireless cat ear headphones', 0.8657),\n",
       "  ('ear headphones easars wireless cat ear', 0.8657),\n",
       "  ('headphones easars wireless cat ear headphones', 0.8655),\n",
       "  ('cat ear headphones headsets', 0.8653),\n",
       "  ('cat ear headphones wireless', 0.865),\n",
       "  ('cat ear headphones easars', 0.8646),\n",
       "  ('customizable lighting active cat ear headphones', 0.8646),\n",
       "  ('cat ear headphones easars wireless cat', 0.8642),\n",
       "  ('cat ear headphones walmart', 0.8641)],)"
      ]
     },
     "execution_count": 4,
     "metadata": {},
     "output_type": "execute_result"
    }
   ],
   "source": [
    "l"
   ]
  },
  {
   "cell_type": "code",
   "execution_count": null,
   "metadata": {},
   "outputs": [],
   "source": []
  }
 ],
 "metadata": {
  "kernelspec": {
   "display_name": "venv",
   "language": "python",
   "name": "python3"
  },
  "language_info": {
   "codemirror_mode": {
    "name": "ipython",
    "version": 3
   },
   "file_extension": ".py",
   "mimetype": "text/x-python",
   "name": "python",
   "nbconvert_exporter": "python",
   "pygments_lexer": "ipython3",
   "version": "3.10.12"
  }
 },
 "nbformat": 4,
 "nbformat_minor": 2
}
